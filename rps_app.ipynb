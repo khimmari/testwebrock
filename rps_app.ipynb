{
 "cells": [
  {
   "cell_type": "code",
   "execution_count": 1,
   "metadata": {},
   "outputs": [],
   "source": [
    "import numpy as np\n",
    "import streamlit as st\n",
    "import tensorflow as tf\n",
    "from PIL import Image, ImageOps"
   ]
  },
  {
   "cell_type": "code",
   "execution_count": 2,
   "metadata": {},
   "outputs": [],
   "source": [
    "def import_and_predict(image_data, model):\n",
    "    \n",
    "        size = (75,75)    \n",
    "        image = ImageOps.fit(image_data, size, Image.ANTIALIAS)\n",
    "        image = image.convert('RGB')\n",
    "        image = np.asarray(image)\n",
    "        image = (image.astype(np.float32) / 255.0)\n",
    "\n",
    "        img_reshape = image[np.newaxis,...]\n",
    "\n",
    "        prediction = model.predict(img_reshape)\n",
    "        \n",
    "        return prediction\n",
    "\n",
    "model = tf.keras.models.load_model('my_model.hdf5')"
   ]
  },
  {
   "cell_type": "code",
   "execution_count": 3,
   "metadata": {},
   "outputs": [
    {
     "name": "stderr",
     "output_type": "stream",
     "text": [
      "2022-05-24 20:24:37.368 \n",
      "  \u001b[33m\u001b[1mWarning:\u001b[0m to view this Streamlit app on a browser, run it with the following\n",
      "  command:\n",
      "\n",
      "    streamlit run C:\\Users\\MayUMiiZ\\anaconda3\\lib\\site-packages\\ipykernel_launcher.py [ARGUMENTS]\n"
     ]
    }
   ],
   "source": [
    "st.write('''<style>\n",
    "            body{\n",
    "            text-align:center;\n",
    "            background-color:#ACDDDE;\n",
    "            }\n",
    "            </style>''', unsafe_allow_html=True)\n",
    "st.write(\"\"\"\n",
    "         # Rock-Paper-Scissor Hand Sign Prediction\n",
    "         \"\"\"\n",
    "         )\n",
    "\n",
    "st.write(\"This is a simple image classification web app to predict rock-paper-scissor hand sign\")\n",
    "\n",
    "file = st.file_uploader(\"Please upload an image file\", type=[\"jpg\", \"png\"])"
   ]
  },
  {
   "cell_type": "code",
   "execution_count": 4,
   "metadata": {},
   "outputs": [],
   "source": [
    "if file is None:\n",
    "    st.text(\"You haven't uploaded an image file\")\n",
    "else:\n",
    "    image = Image.open(file)\n",
    "    st.image(image, use_column_width=True)\n",
    "    prediction = import_and_predict(image, model)\n",
    "    \n",
    "    if np.argmax(prediction) == 0:\n",
    "        st.write(\"It is a paper!\")\n",
    "    elif np.argmax(prediction) == 1:\n",
    "        st.write(\"It is a rock!\")\n",
    "    else:\n",
    "        st.write(\"It is a scissor!\")\n",
    "    \n",
    "    st.text(\"Probability (0: Paper, 1: Rock, 2: Scissor)\")\n",
    "    st.write(prediction)"
   ]
  }
 ],
 "metadata": {
  "kernelspec": {
   "display_name": "TensorFlow-GPU",
   "language": "python",
   "name": "tf"
  },
  "language_info": {
   "codemirror_mode": {
    "name": "ipython",
    "version": 3
   },
   "file_extension": ".py",
   "mimetype": "text/x-python",
   "name": "python",
   "nbconvert_exporter": "python",
   "pygments_lexer": "ipython3",
   "version": "3.8.3"
  }
 },
 "nbformat": 4,
 "nbformat_minor": 4
}
