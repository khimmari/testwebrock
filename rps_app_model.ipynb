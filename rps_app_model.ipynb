{
 "cells": [
  {
   "cell_type": "code",
   "execution_count": 1,
   "metadata": {},
   "outputs": [],
   "source": [
    "from tensorflow.keras.applications.inception_v3 import InceptionV3\n",
    "from tensorflow.keras.layers import Flatten, Dense, Dropout\n",
    "from tensorflow.keras.models import Model\n",
    "from tensorflow.keras.preprocessing.image import ImageDataGenerator\n",
    "import tensorflow as tf\n",
    "import os"
   ]
  },
  {
   "cell_type": "code",
   "execution_count": 3,
   "metadata": {},
   "outputs": [],
   "source": [
    "def image_gen_w_aug(train_parent_directory, test_parent_directory):\n",
    "    \n",
    "    train_datagen = ImageDataGenerator(rescale=1/255,\n",
    "                                      rotation_range = 30,  \n",
    "                                      zoom_range = 0.2, \n",
    "                                      width_shift_range=0.1,  \n",
    "                                      height_shift_range=0.1,\n",
    "                                      validation_split = 0.15)\n",
    "    \n",
    "  \n",
    "    \n",
    "    test_datagen = ImageDataGenerator(rescale=1/255)\n",
    "    \n",
    "    train_generator = train_datagen.flow_from_directory(train_parent_directory,\n",
    "                                                       target_size = (75,75),\n",
    "                                                       batch_size = 214,\n",
    "                                                       class_mode = 'categorical',\n",
    "                                                       subset='training')\n",
    "    \n",
    "    val_generator = train_datagen.flow_from_directory(train_parent_directory,\n",
    "                                                          target_size = (75,75),\n",
    "                                                          batch_size = 37,\n",
    "                                                          class_mode = 'categorical',\n",
    "                                                          subset = 'validation')\n",
    "    \n",
    "    test_generator = test_datagen.flow_from_directory(test_parent_directory,\n",
    "                                                     target_size=(75,75),\n",
    "                                                     batch_size = 37,\n",
    "                                                     class_mode = 'categorical')\n",
    "    \n",
    "    return train_generator, val_generator, test_generator\n"
   ]
  },
  {
   "cell_type": "code",
   "execution_count": 4,
   "metadata": {},
   "outputs": [],
   "source": [
    "def model_output_for_TL (pre_trained_model, last_output):\n",
    "\n",
    "    x = Flatten()(last_output)\n",
    "    \n",
    "    # Dense hidden layer\n",
    "    x = Dense(512, activation='relu')(x)\n",
    "    x = Dropout(0.2)(x)\n",
    "    \n",
    "    # Output neuron. \n",
    "    x = Dense(3, activation='softmax')(x)\n",
    "    \n",
    "    model = Model(pre_trained_model.input, x)\n",
    "    \n",
    "    return model"
   ]
  },
  {
   "cell_type": "code",
   "execution_count": 5,
   "metadata": {},
   "outputs": [],
   "source": [
    "train_dir = os.path.join('C:/Users/MayUMiiZ/Desktop/testweb/rps')\n",
    "test_dir = os.path.join('C:/Users/MayUMiiZ/Desktop/testweb/rps-test-set/')"
   ]
  },
  {
   "cell_type": "code",
   "execution_count": 6,
   "metadata": {},
   "outputs": [
    {
     "name": "stdout",
     "output_type": "stream",
     "text": [
      "Found 2142 images belonging to 3 classes.\n",
      "Found 378 images belonging to 3 classes.\n",
      "Found 372 images belonging to 3 classes.\n"
     ]
    }
   ],
   "source": [
    "train_generator, validation_generator, test_generator = image_gen_w_aug(train_dir, test_dir)\n"
   ]
  },
  {
   "cell_type": "code",
   "execution_count": 7,
   "metadata": {},
   "outputs": [],
   "source": [
    "pre_trained_model = InceptionV3(input_shape = (75, 75, 3), \n",
    "                                include_top = False, \n",
    "                                weights = 'imagenet')\n",
    "\n",
    "for layer in pre_trained_model.layers:\n",
    "  layer.trainable = False"
   ]
  },
  {
   "cell_type": "code",
   "execution_count": 8,
   "metadata": {},
   "outputs": [],
   "source": [
    "last_layer = pre_trained_model.get_layer('mixed3')\n",
    "last_output = last_layer.output"
   ]
  },
  {
   "cell_type": "code",
   "execution_count": 9,
   "metadata": {},
   "outputs": [],
   "source": [
    "model_TL = model_output_for_TL(pre_trained_model, last_output)\n",
    "model_TL.compile(optimizer='adam', loss='categorical_crossentropy', metrics=['accuracy'])"
   ]
  },
  {
   "cell_type": "code",
   "execution_count": 10,
   "metadata": {},
   "outputs": [
    {
     "name": "stdout",
     "output_type": "stream",
     "text": [
      "Epoch 1/10\n",
      "10/10 [==============================] - 18s 2s/step - loss: 15.4695 - accuracy: 0.3859 - val_loss: 5.1086 - val_accuracy: 0.3333\n",
      "Epoch 2/10\n",
      "10/10 [==============================] - 9s 912ms/step - loss: 2.8390 - accuracy: 0.5176 - val_loss: 0.9819 - val_accuracy: 0.6852\n",
      "Epoch 3/10\n",
      "10/10 [==============================] - 10s 977ms/step - loss: 0.7714 - accuracy: 0.7469 - val_loss: 0.1582 - val_accuracy: 0.9392\n",
      "Epoch 4/10\n",
      "10/10 [==============================] - 10s 951ms/step - loss: 0.3247 - accuracy: 0.8833 - val_loss: 0.1855 - val_accuracy: 0.9365\n",
      "Epoch 5/10\n",
      "10/10 [==============================] - 10s 980ms/step - loss: 0.1306 - accuracy: 0.9477 - val_loss: 0.0731 - val_accuracy: 0.9762\n",
      "Epoch 6/10\n",
      "10/10 [==============================] - 10s 963ms/step - loss: 0.0913 - accuracy: 0.9673 - val_loss: 0.1546 - val_accuracy: 0.9471\n",
      "Epoch 7/10\n",
      "10/10 [==============================] - 11s 1s/step - loss: 0.0493 - accuracy: 0.9907 - val_loss: 0.0772 - val_accuracy: 0.9709\n",
      "Epoch 8/10\n",
      "10/10 [==============================] - 11s 1s/step - loss: 0.0498 - accuracy: 0.9870 - val_loss: 0.1293 - val_accuracy: 0.9656\n",
      "Epoch 9/10\n",
      "10/10 [==============================] - 10s 1s/step - loss: 0.0411 - accuracy: 0.9922 - val_loss: 0.1134 - val_accuracy: 0.9762\n",
      "Epoch 10/10\n",
      "10/10 [==============================] - 13s 1s/step - loss: 0.0327 - accuracy: 0.9959 - val_loss: 0.0659 - val_accuracy: 0.9894\n"
     ]
    }
   ],
   "source": [
    "history_TL = model_TL.fit(\n",
    "      train_generator,\n",
    "      steps_per_epoch=10,  \n",
    "      epochs=10,\n",
    "      verbose=1,\n",
    "      validation_data = validation_generator)\n"
   ]
  },
  {
   "cell_type": "code",
   "execution_count": 11,
   "metadata": {},
   "outputs": [],
   "source": [
    "tf.keras.models.save_model(model_TL,'my_model.hdf5')"
   ]
  },
  {
   "cell_type": "code",
   "execution_count": null,
   "metadata": {},
   "outputs": [],
   "source": []
  }
 ],
 "metadata": {
  "kernelspec": {
   "display_name": "TensorFlow-GPU",
   "language": "python",
   "name": "tf"
  },
  "language_info": {
   "codemirror_mode": {
    "name": "ipython",
    "version": 3
   },
   "file_extension": ".py",
   "mimetype": "text/x-python",
   "name": "python",
   "nbconvert_exporter": "python",
   "pygments_lexer": "ipython3",
   "version": "3.8.3"
  }
 },
 "nbformat": 4,
 "nbformat_minor": 4
}
